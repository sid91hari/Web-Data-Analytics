{
 "cells": [
  {
   "cell_type": "markdown",
   "metadata": {},
   "source": [
    "## Part 2a - Sentiment Analysis"
   ]
  },
  {
   "cell_type": "code",
   "execution_count": null,
   "metadata": {},
   "outputs": [],
   "source": [
    "# Import Packages\n",
    "import nltk\n",
    "from nltk.corpus import stopwords\n",
    "\n",
    "from nltk.tokenize import sent_tokenize\n",
    "from nltk.tokenize import word_tokenize\n",
    "import nltk\n",
    "nltk.download('punkt')"
   ]
  },
  {
   "cell_type": "markdown",
   "metadata": {},
   "source": [
    "### Extracting the 100 csv's with the scraped Yelp data from a zipped file  and loading them into Pandas dataframe"
   ]
  },
  {
   "cell_type": "markdown",
   "metadata": {},
   "source": [
    "Please change the directory to the zip file location"
   ]
  },
  {
   "cell_type": "code",
   "execution_count": null,
   "metadata": {},
   "outputs": [],
   "source": [
    "import os\n",
    "# os.chdir(\"E:\\\\Purdue\\\\Fall 2\\\\Web Analytics\\\\Final Project\")"
   ]
  },
  {
   "cell_type": "code",
   "execution_count": 2,
   "metadata": {},
   "outputs": [],
   "source": [
    "import glob\n",
    "import shutil\n",
    "import pandas as pd\n",
    "\n",
    "#Unzipped folder name\n",
    "data1 = \"restaurant_data\"\n",
    "path = os.getcwd()+\"\\\\\"+data1\n",
    "\n",
    "#Unzip files from zip file\n",
    "shutil.unpack_archive(os.getcwd()+\"\\\\restaurant_data.zip\",path)\n",
    "\n",
    "fileNames=os.listdir(path) \n",
    "\n",
    "#Store all paths of the files using glob\n",
    "for fp in fileNames:\n",
    "    ext = os.path.splitext(fp)[-1].lower()\n",
    "    files = glob.glob(os.path.join(path, \"*\"+ext))\n",
    "\n",
    "#Concatenate and store all files in a dataframe\n",
    "dfs = (pd.read_csv(f, engine='python', encoding = 'utf-8') for f in files)\n",
    "final_df = pd.concat(dfs, ignore_index=True)"
   ]
  },
  {
   "cell_type": "markdown",
   "metadata": {},
   "source": [
    "### Reading the pandas dataframe and renaming the columns"
   ]
  },
  {
   "cell_type": "code",
   "execution_count": 3,
   "metadata": {},
   "outputs": [
    {
     "name": "stderr",
     "output_type": "stream",
     "text": [
      "[nltk_data] Downloading package punkt to\n",
      "[nltk_data]     C:\\Users\\siddh\\AppData\\Roaming\\nltk_data...\n",
      "[nltk_data]   Package punkt is already up-to-date!\n"
     ]
    }
   ],
   "source": [
    "from nltk.tokenize import sent_tokenize\n",
    "from nltk.tokenize import word_tokenize\n",
    "import nltk\n",
    "nltk.download('punkt')\n",
    "import pandas as pd\n",
    "import numpy as np\n",
    "\n",
    "\n",
    "#Renaming the column names\n",
    "final_df.rename(columns = {'Name':'restaurant', 'Rating':'Rating', \n",
    "                              'Review':'review_text'}, inplace = True) \n",
    "\n",
    "sample_reviews=final_df\n",
    "\n"
   ]
  },
  {
   "cell_type": "code",
   "execution_count": 4,
   "metadata": {},
   "outputs": [],
   "source": [
    "# !pip install textblob"
   ]
  },
  {
   "cell_type": "markdown",
   "metadata": {},
   "source": [
    "### Using TextBlob for sentiment analysis"
   ]
  },
  {
   "cell_type": "code",
   "execution_count": 5,
   "metadata": {},
   "outputs": [],
   "source": [
    "from textblob import TextBlob\n",
    "\n",
    "#Initializing 3 lists to hold the restaurant name, flag(live music or not) and the sentiment score of the review\n",
    "restaurant_list_tblob=[]\n",
    "flag_list_tblob=[]\n",
    "sentiment_score_list_tblob=[]\n",
    "\n",
    "#Iterate through all the review and find the sentiment score\n",
    "for i in range(len(sample_reviews)):\n",
    "    testimonial = TextBlob(sample_reviews.review_text[i])\n",
    "    \n",
    "    #Appending the restaurant name, flag(live music or not) and the sentiment score of the review into the lists initialized \n",
    "    restaurant_list_tblob.append(sample_reviews.restaurant[i])\n",
    "\n",
    "    #flag_list_tblob.append(sample_reviews.music_flag[i])\n",
    "    sentiment_score_list_tblob.append(testimonial.polarity)\n",
    "    "
   ]
  },
  {
   "cell_type": "markdown",
   "metadata": {},
   "source": [
    "### Loading the sentiment analysis for each review into a pandas dataframe and later aggregating at restaurant and flag (live-music bar or not) level"
   ]
  },
  {
   "cell_type": "code",
   "execution_count": 6,
   "metadata": {},
   "outputs": [],
   "source": [
    "#Create a pandas dataframe with the 3 lists created in the previous snippet\n",
    "sentiment_combined_textblob = pd.DataFrame(\n",
    "    {'Restaurant': restaurant_list_tblob,\n",
    "     'Sentiment_score': sentiment_score_list_tblob\n",
    "    })"
   ]
  },
  {
   "cell_type": "code",
   "execution_count": 7,
   "metadata": {},
   "outputs": [],
   "source": [
    "#Find the average sentiment score of all reviews aggregated at restaurant and music flag(live music or not)\n",
    "\n",
    "sentiment_data=sentiment_combined_textblob.groupby([\"Restaurant\"])[\"Sentiment_score\"].mean().reset_index()"
   ]
  },
  {
   "cell_type": "code",
   "execution_count": 8,
   "metadata": {},
   "outputs": [],
   "source": [
    "#export the aggregated average sentiment scores for each restaurant into a csv file\n",
    "sentiment_data.to_csv(\"restaurant_senti_score_total.csv\",encoding = 'utf-8',index=False)"
   ]
  },
  {
   "cell_type": "markdown",
   "metadata": {},
   "source": [
    "## Part 2b - Data Preparation for regression"
   ]
  },
  {
   "cell_type": "code",
   "execution_count": 9,
   "metadata": {},
   "outputs": [],
   "source": [
    "# Read data for restaurant name and URLs\n",
    "restaurants = pd.read_excel(\"restaurants_2.xlsx\")\n",
    "\n",
    "# Store Restaurant URLs and names in lists\n",
    "rest_links = restaurants['Restaurant_URL'].tolist()\n",
    "rest_names = restaurants['Restaurant_Name'].tolist()"
   ]
  },
  {
   "cell_type": "code",
   "execution_count": 17,
   "metadata": {},
   "outputs": [],
   "source": [
    "# Merge restaurant name and average sentiment score data\n",
    "\n",
    "new_df =pd.merge(restaurants, sentiment_data,left_on='Restaurant_Name',right_on = 'Restaurant',how='left')\n",
    "new_df.drop(['Restaurant','Restaurant_URL'],axis = 1,inplace = True)"
   ]
  },
  {
   "cell_type": "code",
   "execution_count": 18,
   "metadata": {},
   "outputs": [],
   "source": [
    "# Calculate average rating for each restaurant\n",
    "\n",
    "x = final_df.groupby('restaurant')\n",
    "x2 = x[['Rating']].mean()\n",
    "x2.reset_index(inplace = True)"
   ]
  },
  {
   "cell_type": "code",
   "execution_count": 19,
   "metadata": {},
   "outputs": [],
   "source": [
    "# Merge restaurant name and average rating data\n",
    "\n",
    "final_df_2 = pd.merge(new_df, x2,left_on='Restaurant_Name',right_on = 'restaurant',how='left')\n",
    "final_df_2.drop(['restaurant'],axis = 1,inplace = True)"
   ]
  },
  {
   "cell_type": "code",
   "execution_count": 20,
   "metadata": {},
   "outputs": [],
   "source": [
    "# Set column names\n",
    "final_df_2.columns = ['Restaurant_Name', 'Dummy_Live','High_Cost','Avg_Sent_Score','Avg_Rating']"
   ]
  },
  {
   "cell_type": "code",
   "execution_count": 21,
   "metadata": {},
   "outputs": [],
   "source": [
    "# Calculate number of reviews for each restaurant\n",
    "\n",
    "x3 = final_df.groupby('restaurant')\n",
    "x4 = x3[['restaurant']].count()\n",
    "x4.columns = ['Review_count']\n",
    "x4.reset_index(inplace = True)\n"
   ]
  },
  {
   "cell_type": "code",
   "execution_count": 22,
   "metadata": {},
   "outputs": [],
   "source": [
    "# Merge restaurant name and number of reviews data\n",
    "\n",
    "final_df_3 = pd.merge(final_df_2, x4,left_on='Restaurant_Name',right_on = 'restaurant',how='left')\n",
    "final_df_3.drop(['restaurant'],axis = 1,inplace = True)"
   ]
  },
  {
   "cell_type": "code",
   "execution_count": 23,
   "metadata": {},
   "outputs": [],
   "source": [
    "# Write data as csv to perform regression in R\n",
    "\n",
    "final_df_3.to_csv(\"Final_data.csv\",encoding = 'utf-8', index = False)"
   ]
  },
  {
   "cell_type": "code",
   "execution_count": null,
   "metadata": {},
   "outputs": [],
   "source": []
  }
 ],
 "metadata": {
  "kernelspec": {
   "display_name": "Python 3",
   "language": "python",
   "name": "python3"
  },
  "language_info": {
   "codemirror_mode": {
    "name": "ipython",
    "version": 3
   },
   "file_extension": ".py",
   "mimetype": "text/x-python",
   "name": "python",
   "nbconvert_exporter": "python",
   "pygments_lexer": "ipython3",
   "version": "3.7.3"
  }
 },
 "nbformat": 4,
 "nbformat_minor": 2
}
